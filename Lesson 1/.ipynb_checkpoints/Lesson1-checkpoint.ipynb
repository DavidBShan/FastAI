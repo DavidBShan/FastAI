{
 "cells": [
  {
   "cell_type": "code",
   "execution_count": 4,
   "id": "2e0442d8",
   "metadata": {},
   "outputs": [
    {
     "name": "stdout",
     "output_type": "stream",
     "text": [
      "Collecting duckduckgo_search\n",
      "  Obtaining dependency information for duckduckgo_search from https://files.pythonhosted.org/packages/ca/5d/47ae6b1054fedb4aed5cc5c5c36479748245ce09128bce596fc45095f69e/duckduckgo_search-4.1.1-py3-none-any.whl.metadata\n",
      "  Downloading duckduckgo_search-4.1.1-py3-none-any.whl.metadata (19 kB)\n",
      "Collecting click>=8.1.7 (from duckduckgo_search)\n",
      "  Obtaining dependency information for click>=8.1.7 from https://files.pythonhosted.org/packages/00/2e/d53fa4befbf2cfa713304affc7ca780ce4fc1fd8710527771b58311a3229/click-8.1.7-py3-none-any.whl.metadata\n",
      "  Using cached click-8.1.7-py3-none-any.whl.metadata (3.0 kB)\n",
      "Requirement already satisfied: lxml>=4.9.3 in c:\\users\\david\\anaconda3\\lib\\site-packages (from duckduckgo_search) (4.9.3)\n",
      "Collecting curl-cffi>=0.5.10 (from duckduckgo_search)\n",
      "  Obtaining dependency information for curl-cffi>=0.5.10 from https://files.pythonhosted.org/packages/4e/70/0d4d667287d54cb4daf8ce67068565c8e09e4f839a835119cd27f229a446/curl_cffi-0.5.10-cp37-abi3-win_amd64.whl.metadata\n",
      "  Downloading curl_cffi-0.5.10-cp37-abi3-win_amd64.whl.metadata (8.1 kB)\n",
      "Requirement already satisfied: colorama in c:\\users\\david\\anaconda3\\lib\\site-packages (from click>=8.1.7->duckduckgo_search) (0.4.6)\n",
      "Requirement already satisfied: cffi>=1.12.0 in c:\\users\\david\\anaconda3\\lib\\site-packages (from curl-cffi>=0.5.10->duckduckgo_search) (1.15.1)\n",
      "Requirement already satisfied: pycparser in c:\\users\\david\\anaconda3\\lib\\site-packages (from cffi>=1.12.0->curl-cffi>=0.5.10->duckduckgo_search) (2.21)\n",
      "Downloading duckduckgo_search-4.1.1-py3-none-any.whl (26 kB)\n",
      "Using cached click-8.1.7-py3-none-any.whl (97 kB)\n",
      "Downloading curl_cffi-0.5.10-cp37-abi3-win_amd64.whl (2.6 MB)\n",
      "   ---------------------------------------- 0.0/2.6 MB ? eta -:--:--\n",
      "   --- ------------------------------------ 0.3/2.6 MB 5.2 MB/s eta 0:00:01\n",
      "   ------------- -------------------------- 0.9/2.6 MB 9.6 MB/s eta 0:00:01\n",
      "   ----------------------- ---------------- 1.6/2.6 MB 11.1 MB/s eta 0:00:01\n",
      "   ------------------------------------- -- 2.4/2.6 MB 13.0 MB/s eta 0:00:01\n",
      "   ---------------------------------------- 2.6/2.6 MB 12.0 MB/s eta 0:00:00\n",
      "Installing collected packages: click, curl-cffi, duckduckgo_search\n",
      "  Attempting uninstall: click\n",
      "    Found existing installation: click 8.0.4\n",
      "    Uninstalling click-8.0.4:\n",
      "      Successfully uninstalled click-8.0.4\n",
      "Successfully installed click-8.1.7 curl-cffi-0.5.10 duckduckgo_search-4.1.1\n"
     ]
    },
    {
     "name": "stderr",
     "output_type": "stream",
     "text": [
      "ERROR: pip's dependency resolver does not currently take into account all the packages that are installed. This behaviour is the source of the following dependency conflicts.\n",
      "python-lsp-black 1.2.1 requires black>=22.3.0, but you have black 0.0 which is incompatible.\n"
     ]
    }
   ],
   "source": [
    "!pip install -Uqq fastai\n",
    "!pip install duckduckgo_search"
   ]
  },
  {
   "cell_type": "code",
   "execution_count": 5,
   "id": "14ccc3e6",
   "metadata": {},
   "outputs": [],
   "source": [
    "from duckduckgo_search import ddg_images\n",
    "from fastcore.all import *"
   ]
  },
  {
   "cell_type": "code",
   "execution_count": 6,
   "id": "eedb7955",
   "metadata": {},
   "outputs": [],
   "source": [
    "def search_images(term, max_images=30):\n",
    "    print(f\"Searching for '{term}'\")\n",
    "    return L(ddg_images(term, max_results = max_images)).itemgot('image')"
   ]
  },
  {
   "cell_type": "code",
   "execution_count": 7,
   "id": "07dfa013",
   "metadata": {},
   "outputs": [
    {
     "name": "stdout",
     "output_type": "stream",
     "text": [
      "Searching for 'comedy movie posters'\n"
     ]
    },
    {
     "name": "stderr",
     "output_type": "stream",
     "text": [
      "C:\\Users\\david\\anaconda3\\Lib\\site-packages\\duckduckgo_search\\compat.py:40: UserWarning: ddg_images is deprecated. Use DDGS().images() generator\n",
      "  warnings.warn(\"ddg_images is deprecated. Use DDGS().images() generator\")\n"
     ]
    },
    {
     "data": {
      "text/plain": [
       "'https://www.liveabout.com/thmb/mZ2P3BAeZIoWUhUlevNzJ0LmbwY=/1280x1896/filters:fill(auto,1)/billy-madison-56a4f8445f9b58b7d0da2701.jpg'"
      ]
     },
     "execution_count": 7,
     "metadata": {},
     "output_type": "execute_result"
    }
   ],
   "source": [
    "urls = search_images('comedy movie posters', max_images=1)\n",
    "urls[0]\n"
   ]
  },
  {
   "cell_type": "code",
   "execution_count": null,
   "id": "456b69f4",
   "metadata": {},
   "outputs": [],
   "source": []
  }
 ],
 "metadata": {
  "kernelspec": {
   "display_name": "Python 3 (ipykernel)",
   "language": "python",
   "name": "python3"
  },
  "language_info": {
   "codemirror_mode": {
    "name": "ipython",
    "version": 3
   },
   "file_extension": ".py",
   "mimetype": "text/x-python",
   "name": "python",
   "nbconvert_exporter": "python",
   "pygments_lexer": "ipython3",
   "version": "3.11.5"
  }
 },
 "nbformat": 4,
 "nbformat_minor": 5
}
